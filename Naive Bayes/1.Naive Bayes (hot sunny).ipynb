{
 "cells": [
  {
   "cell_type": "markdown",
   "id": "09d18b9a",
   "metadata": {},
   "source": [
    "## Naive Bayes Classifier Defining Dataset"
   ]
  },
  {
   "cell_type": "markdown",
   "id": "d355b7ac",
   "metadata": {},
   "source": [
    "### Question: If the weather (Overcast, Mild), the player will play or not?"
   ]
  },
  {
   "cell_type": "code",
   "execution_count": 1,
   "id": "26866b8c",
   "metadata": {},
   "outputs": [],
   "source": [
    "# Assigning features and label variables\n",
    "weather=['Sunny','Sunny','Overcast','Rainy','Rainy','Rainy','Overcast','Sunny','Sunny',\n",
    "'Rainy','Sunny','Overcast','Overcast','Rainy']\n",
    "temp=['Hot','Hot','Hot','Mild','Cool','Cool','Cool','Mild','Cool','Mild','Mild','Mild','Hot','Mild']\n",
    "\n",
    "play=['No','No','Yes','Yes','Yes','No','Yes','No','Yes','Yes','Yes','Yes','Yes','No']\n"
   ]
  },
  {
   "cell_type": "markdown",
   "id": "5b56f466",
   "metadata": {},
   "source": [
    "## Encoding Features"
   ]
  },
  {
   "cell_type": "markdown",
   "id": "c8f1dd04",
   "metadata": {},
   "source": [
    "First, you need to convert these string labels into numbers. for example: 'Overcast', 'Rainy', 'Sunny' as 0, 1, 2. This is known as label encoding. Scikit-learn provides LabelEncoder library for encoding labels with a value between 0 and one less than the number of discrete classes."
   ]
  },
  {
   "cell_type": "code",
   "execution_count": 5,
   "id": "d1d9c353",
   "metadata": {},
   "outputs": [
    {
     "name": "stdout",
     "output_type": "stream",
     "text": [
      "[2 2 0 1 1 1 0 2 2 1 2 0 0 1]\n"
     ]
    }
   ],
   "source": [
    "from sklearn.preprocessing import LabelEncoder\n",
    "le = LabelEncoder()\n",
    "weather_encoded = le.fit_transform(weather)\n",
    "print(weather_encoded)"
   ]
  },
  {
   "cell_type": "code",
   "execution_count": 8,
   "id": "53bb33dc",
   "metadata": {},
   "outputs": [],
   "source": [
    "# Similarly, you can also encode temp and play columns\n",
    "temp_encoded = le.fit_transform(temp)\n",
    "play_encoded = le.fit_transform(play)"
   ]
  },
  {
   "cell_type": "markdown",
   "id": "271c3e0e",
   "metadata": {},
   "source": [
    "Now combine both the features (weather and temp) in a single variable (list of tuples)."
   ]
  },
  {
   "cell_type": "code",
   "execution_count": 17,
   "id": "230ff942",
   "metadata": {},
   "outputs": [
    {
     "name": "stdout",
     "output_type": "stream",
     "text": [
      "[(2, 1), (2, 1), (0, 1), (1, 2), (1, 0), (1, 0), (0, 0), (2, 2), (2, 0), (1, 2), (2, 2), (0, 2), (0, 1), (1, 2)]\n"
     ]
    }
   ],
   "source": [
    "#Combinig weather and temp into single listof tuples\n",
    "features= list(zip(weather_encoded,temp_encoded))\n",
    "print(features)\n"
   ]
  },
  {
   "cell_type": "markdown",
   "id": "627710f2",
   "metadata": {},
   "source": [
    "## Generating Model"
   ]
  },
  {
   "cell_type": "markdown",
   "id": "7d9e86fe",
   "metadata": {},
   "source": [
    "Generate a model using naive bayes classifier in the following steps:\n",
    "\n",
    "- Create naive bayes classifier\n",
    "- Fit the dataset on classifier\n",
    "- Perform prediction"
   ]
  },
  {
   "cell_type": "code",
   "execution_count": 18,
   "id": "5a410565",
   "metadata": {},
   "outputs": [
    {
     "name": "stdout",
     "output_type": "stream",
     "text": [
      "['Yes']\n"
     ]
    }
   ],
   "source": [
    "from sklearn.naive_bayes import GaussianNB\n",
    "model = GaussianNB()\n",
    "model.fit(features, play)\n",
    "predict = model.predict([[0, 2]]) #0:Overcast, 2:Mild\n",
    "print(predict)    \n"
   ]
  },
  {
   "cell_type": "code",
   "execution_count": null,
   "id": "36559d51",
   "metadata": {},
   "outputs": [],
   "source": [
    "Here, indicates that players can 'play'."
   ]
  },
  {
   "cell_type": "code",
   "execution_count": null,
   "id": "f5b90e63",
   "metadata": {},
   "outputs": [],
   "source": [
    "Source:Datacamp"
   ]
  }
 ],
 "metadata": {
  "kernelspec": {
   "display_name": "Python 3 (ipykernel)",
   "language": "python",
   "name": "python3"
  },
  "language_info": {
   "codemirror_mode": {
    "name": "ipython",
    "version": 3
   },
   "file_extension": ".py",
   "mimetype": "text/x-python",
   "name": "python",
   "nbconvert_exporter": "python",
   "pygments_lexer": "ipython3",
   "version": "3.9.12"
  }
 },
 "nbformat": 4,
 "nbformat_minor": 5
}
